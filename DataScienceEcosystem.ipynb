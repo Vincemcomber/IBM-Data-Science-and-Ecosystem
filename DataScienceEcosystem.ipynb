{
 "cells": [
  {
   "cell_type": "code",
   "execution_count": null,
   "id": "503fa66e",
   "metadata": {},
   "outputs": [],
   "source": []
  },
  {
   "cell_type": "markdown",
   "id": "b94682c4",
   "metadata": {},
   "source": [
    "# Assignment Topic:"
   ]
  },
  {
   "cell_type": "markdown",
   "id": "40c1ef7e",
   "metadata": {},
   "source": [
    "I am interested in Data Science because I like the fact of imagination of various mathematical visualisations, data and patterns. It intrigues my curiosity to work on millions of data."
   ]
  },
  {
   "cell_type": "markdown",
   "id": "61f1abc5",
   "metadata": {},
   "source": [
    "I was provided with an empty Jupyterlite notebook which I launched in the course, to complete this assignment. I needed to include a combination of markdown and code cells. I did not needed to use the Markdown cheat sheet to help me determine the appropriate syntax for my markdown."
   ]
  },
  {
   "cell_type": "markdown",
   "id": "2039ad37",
   "metadata": {},
   "source": [
    "# Guidelines for the submission:"
   ]
  },
  {
   "cell_type": "markdown",
   "id": "7614648f",
   "metadata": {},
   "source": [
    "# There are a total of 25 points possible for this final project."
   ]
  },
  {
   "cell_type": "markdown",
   "id": "0700a975",
   "metadata": {},
   "source": [
    "I hope I will succeed, based on the following Exercises:\n",
    "\n",
    "1. Exercise 2 - Create a markdown cell with the title of the notebook. (1 pt)\n",
    "2. Exercise 3 - Create a markdown cell for an introduction. (1 pt)\n",
    "3. Exercise 4 - Create a markdown cell to list data science languages. (3 pts)\n",
    "4. Exercise 5 - Create a markdown cell to list data science libraries. (3 pts)\n",
    "5. Exercise 6 - Create a markdown cell with a table of Data Science tools. (3 pts)\n",
    "6. Exercise 7 - Create a markdown cell introducing arithmetic expression examples. (1 pt)\n",
    "7. Exercise 8 - Create a code cell to multiply and add numbers.(2 pts)\n",
    "8. Exercise 9 - Create a code cell to convert minutes to hours. (2 pts)\n",
    "9. Exercise 10 -Insert a markdown cell to list Objectives. (3 pts)\n",
    "10. Exercise 11 - Create a markdown cell to indicate the Author’s name. (2 pts)\n",
    "11. Exercise 12 - Share your notebook through GitHub (3 pts)\n",
    "12. Exercise 13 - Take a screenshot of the first page of the notebook. (1 pt)"
   ]
  },
  {
   "cell_type": "markdown",
   "id": "4fe96664",
   "metadata": {},
   "source": [
    "# Exercise 1: Create a Jupyter Notebook"
   ]
  },
  {
   "cell_type": "markdown",
   "id": "a6bf5144",
   "metadata": {},
   "source": [
    "# Name: IBM Data Science Course - Peer graded Assignment Submitting My Work"
   ]
  },
  {
   "cell_type": "markdown",
   "id": "7cb70695",
   "metadata": {},
   "source": [
    "# Exercise 2 - Create a markdown cell with the title of the notebook. (1pt)"
   ]
  },
  {
   "cell_type": "markdown",
   "id": "68efbfe8",
   "metadata": {},
   "source": [
    "# Data Science Tools and Ecosystem"
   ]
  },
  {
   "cell_type": "markdown",
   "id": "53a3ff69",
   "metadata": {},
   "source": [
    "# Exercise 3 - Create a markdown cell for an introduction. (1 pt)"
   ]
  },
  {
   "cell_type": "markdown",
   "id": "fc206334",
   "metadata": {},
   "source": [
    "In this notebook, Data Science Tools and Ecosystem are summarized."
   ]
  },
  {
   "cell_type": "markdown",
   "id": "b37a79a3",
   "metadata": {},
   "source": [
    "# Objectives:"
   ]
  },
  {
   "cell_type": "markdown",
   "id": "a4e5e73a",
   "metadata": {},
   "source": [
    "- List popular languages that Data Scientists use.\n",
    "- List commonly used libraries used by Data Scientists.\n",
    "- Comment on Data Science tools."
   ]
  },
  {
   "cell_type": "markdown",
   "id": "8242df60",
   "metadata": {},
   "source": [
    "# Exercise 4 - Create a markdown cell to list data science languages. (3 pts)"
   ]
  },
  {
   "cell_type": "markdown",
   "id": "f14b12d5",
   "metadata": {},
   "source": [
    "Some of the popular languages that Data Scientists use are:\n",
    "1. Python\n",
    "2. R\n",
    "3. SQL\n",
    "4. Scala\n",
    "5. Java\n",
    "6. C/C++\n",
    "7. Julia\n",
    "8. JavaScript\n",
    "9. PHP\n",
    "10. Go\n",
    "11. Ruby\n",
    "12. Visual Basic"
   ]
  },
  {
   "cell_type": "markdown",
   "id": "2c19c076",
   "metadata": {},
   "source": [
    "# Exercise 5 - Create a markdown cell to list data science libraries. (3 pts)"
   ]
  },
  {
   "cell_type": "markdown",
   "id": "07339db2",
   "metadata": {},
   "source": [
    "Some of the commonly used libraries used by Data Scientists include:\n",
    "\n",
    "1. Pandas\n",
    "2. Numpy\n",
    "3. Matplotlib\n",
    "4. Seaborn\n",
    "5. SciKit-Learn\n",
    "6. Keras\n",
    "7. TensorFlow\n",
    "8. PyTorch\n",
    "9. Apache Spark\n",
    "10. Vegas\n",
    "11. Big DL\n",
    "12. Ggplot2"
   ]
  },
  {
   "cell_type": "markdown",
   "id": "0d1de841",
   "metadata": {},
   "source": [
    "# Exercise 6 - Create a markdown cell with a table of Data Science tools. (3 pts)"
   ]
  },
  {
   "cell_type": "markdown",
   "id": "cdcf37b6",
   "metadata": {},
   "source": [
    "|Data Science Tools|\n",
    "|------------------|\n",
    "|Anaconda|\n",
    "|Jupyter Notebook|\n",
    "|R Studio|\n",
    "|Spyder|\n",
    "|Zeppelin|"
   ]
  },
  {
   "cell_type": "markdown",
   "id": "f2356aad",
   "metadata": {},
   "source": [
    "# Exercise 7 - Create a markdown cell introducing arithmetic expression examples. (1 pt)"
   ]
  },
  {
   "cell_type": "markdown",
   "id": "80eac2b5",
   "metadata": {},
   "source": [
    "Below are a few examples of evaluating arithmetic expressions in Python"
   ]
  },
  {
   "cell_type": "code",
   "execution_count": 10,
   "id": "3cda918a",
   "metadata": {},
   "outputs": [
    {
     "data": {
      "text/plain": [
       "65449.84694978735"
      ]
     },
     "execution_count": 10,
     "metadata": {},
     "output_type": "execute_result"
    }
   ],
   "source": [
    "import math\n",
    "# Volume of a sphere\n",
    "code2 = compile(\"4 / 3 * math.pi * math.pow(25, 3)\", \"<string>\", \"eval\")\n",
    "eval(code2)\n",
    "\n",
    "# Result: 65449.84694978735"
   ]
  },
  {
   "cell_type": "code",
   "execution_count": 11,
   "id": "501dc712",
   "metadata": {},
   "outputs": [
    {
     "data": {
      "text/plain": [
       "9"
      ]
     },
     "execution_count": 11,
     "metadata": {},
     "output_type": "execute_result"
    }
   ],
   "source": [
    "# Arithmetic operations\n",
    "code = compile(\"5 + 4\", \"<string>\", \"eval\")\n",
    "eval(code)\n",
    "\n",
    "# Result: 9"
   ]
  },
  {
   "cell_type": "code",
   "execution_count": 12,
   "id": "a9089f17",
   "metadata": {},
   "outputs": [
    {
     "data": {
      "text/plain": [
       "24"
      ]
     },
     "execution_count": 12,
     "metadata": {},
     "output_type": "execute_result"
    }
   ],
   "source": [
    "code1 = compile(\"(5 + 7) * 2\", \"<string>\", \"eval\")\n",
    "eval(code1)\n",
    "\n",
    "# Result: 24"
   ]
  },
  {
   "cell_type": "markdown",
   "id": "c264cd4c",
   "metadata": {},
   "source": [
    "# Exercise 8 - Create a code cell to multiply and add numbers. (2 pts)"
   ]
  },
  {
   "cell_type": "markdown",
   "id": "237bb287",
   "metadata": {},
   "source": [
    "This a simple arithmetic expression to mutiply then add integers:"
   ]
  },
  {
   "cell_type": "code",
   "execution_count": 19,
   "id": "69b136f3",
   "metadata": {},
   "outputs": [
    {
     "data": {
      "text/plain": [
       "17"
      ]
     },
     "execution_count": 19,
     "metadata": {},
     "output_type": "execute_result"
    }
   ],
   "source": [
    "# This is a simple arithmetic expression to multiply then add integers.\n",
    "(3*4)+5\n"
   ]
  },
  {
   "cell_type": "markdown",
   "id": "8b011a03",
   "metadata": {},
   "source": [
    "# Exercise 9 - Create a code cell to convert minutes to hours. (2 pts)"
   ]
  },
  {
   "cell_type": "markdown",
   "id": "15430d46",
   "metadata": {},
   "source": [
    "This will convert 200 minutes to hours by diving by 60:"
   ]
  },
  {
   "cell_type": "code",
   "execution_count": 20,
   "id": "593524d8",
   "metadata": {},
   "outputs": [
    {
     "data": {
      "text/plain": [
       "3.3333333333333335"
      ]
     },
     "execution_count": 20,
     "metadata": {},
     "output_type": "execute_result"
    }
   ],
   "source": [
    "# This will convert 200 minutes to hours by diving by 60.\n",
    "200/60"
   ]
  },
  {
   "cell_type": "markdown",
   "id": "2b37a7a6",
   "metadata": {},
   "source": [
    "# Exercise 10 -Insert a markdown cell to list Objectives. (3 pts)"
   ]
  },
  {
   "cell_type": "markdown",
   "id": "a6914494",
   "metadata": {},
   "source": [
    "# Objectives:"
   ]
  },
  {
   "cell_type": "markdown",
   "id": "99b7000a",
   "metadata": {},
   "source": [
    "- List popular languages that Data Scientists use.\n",
    "- List commonly used libraries used by Data Scientists.\n",
    "- Comment on Data Science tools."
   ]
  },
  {
   "cell_type": "markdown",
   "id": "ad0e4b37",
   "metadata": {},
   "source": [
    "Below the introduction cell created in Exercise 3, insert a new markdown cell to list the objectives that this notebook covered (i.e. some of the key takeaways from the course). In this new cell start with an introductory line titled: Objectives: in bold font. Then using an unordered list (bullets) indicate 3 to 5 items covered in this notebook, such as List popular languages for Data Science."
   ]
  },
  {
   "cell_type": "markdown",
   "id": "4de7d0bc",
   "metadata": {},
   "source": [
    "# Exercise 11 - Create a markdown cell to indicate the Author’s name. (2 pts)"
   ]
  },
  {
   "cell_type": "markdown",
   "id": "c260bcca",
   "metadata": {},
   "source": [
    "# Author(s)"
   ]
  },
  {
   "cell_type": "markdown",
   "id": "3bb35d79",
   "metadata": {},
   "source": [
    "Vincent Mukomba"
   ]
  },
  {
   "cell_type": "markdown",
   "id": "4a98fb3c",
   "metadata": {},
   "source": [
    "# Exercise 12 - Share your notebook through GitHub (3 pts)"
   ]
  },
  {
   "cell_type": "markdown",
   "id": "e4cb46f8",
   "metadata": {},
   "source": [
    "My Gitbub link: https://github.com/Vincemcomber"
   ]
  },
  {
   "cell_type": "markdown",
   "id": "2bda82e0",
   "metadata": {},
   "source": [
    "# Exercise 13 - Take a screenshot of the first page of the notebook. (1 pt)"
   ]
  },
  {
   "cell_type": "markdown",
   "id": "189f24ec",
   "metadata": {},
   "source": [
    "Jupyter Notebook Name: Vincent Jupyter Notebook on IBM Data Science Course\n"
   ]
  }
 ],
 "metadata": {
  "kernelspec": {
   "display_name": "Python 3 (ipykernel)",
   "language": "python",
   "name": "python3"
  },
  "language_info": {
   "codemirror_mode": {
    "name": "ipython",
    "version": 3
   },
   "file_extension": ".py",
   "mimetype": "text/x-python",
   "name": "python",
   "nbconvert_exporter": "python",
   "pygments_lexer": "ipython3",
   "version": "3.11.3"
  }
 },
 "nbformat": 4,
 "nbformat_minor": 5
}
